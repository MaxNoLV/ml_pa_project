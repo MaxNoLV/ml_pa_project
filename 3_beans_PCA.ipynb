{
 "cells": [
  {
   "cell_type": "code",
   "execution_count": 1,
   "metadata": {},
   "outputs": [],
   "source": [
    "import pandas as pd\n",
    "import matplotlib.pyplot as plt\n",
    "import seaborn as sns\n",
    "from scipy.io import arff\n",
    "from sklearn.model_selection import train_test_split\n",
    "from sklearn.pipeline import Pipeline\n",
    "from sklearn.preprocessing import StandardScaler\n",
    "from sklearn.svm import SVC\n",
    "from sklearn.tree import DecisionTreeClassifier\n",
    "from sklearn.neighbors import KNeighborsClassifier\n",
    "from sklearn.metrics import accuracy_score, classification_report\n",
    "from sklearn.ensemble import RandomForestClassifier\n",
    "from sklearn.neural_network import MLPClassifier\n",
    "from sklearn.decomposition import PCA"
   ]
  },
  {
   "cell_type": "markdown",
   "metadata": {},
   "source": [
    "Load and split the data"
   ]
  },
  {
   "cell_type": "code",
   "execution_count": 2,
   "metadata": {},
   "outputs": [],
   "source": [
    "arff_file = arff.loadarff(\n",
    "    \"/Users/maksimnoskov/Documents/tsi_term2/ml_pa_project/Dry_Bean_Dataset.arff\"\n",
    ")\n",
    "df = pd.DataFrame(arff_file[0])"
   ]
  },
  {
   "cell_type": "code",
   "execution_count": 3,
   "metadata": {},
   "outputs": [],
   "source": [
    "df.rename(columns={\"AspectRation\": \"AspectRatio\"}, inplace=True)\n",
    "df[\"Class\"] = df[\"Class\"].str.decode(\"utf-8\")"
   ]
  },
  {
   "cell_type": "code",
   "execution_count": 4,
   "metadata": {},
   "outputs": [],
   "source": [
    "labels = df[\"Class\"]\n",
    "features = df.drop(\"Class\", axis=1)"
   ]
  },
  {
   "cell_type": "code",
   "execution_count": 5,
   "metadata": {},
   "outputs": [],
   "source": [
    "train_features, test_features, train_labels, test_labels = train_test_split(\n",
    "    features, labels, test_size=0.20, random_state=42, stratify=labels\n",
    ")\n",
    "\n",
    "train_features, val_features, train_labels, val_labels = train_test_split(\n",
    "    train_features, train_labels, test_size=0.10, random_state=42, stratify=train_labels\n",
    ")"
   ]
  },
  {
   "cell_type": "markdown",
   "metadata": {},
   "source": [
    "Standartize data and apply PCA"
   ]
  },
  {
   "cell_type": "code",
   "execution_count": 6,
   "metadata": {},
   "outputs": [
    {
     "name": "stdout",
     "output_type": "stream",
     "text": [
      "Principal Component 1: 0.5538 (55.38%)\n",
      "Principal Component 2: 0.2647 (26.47%)\n",
      "Principal Component 3: 0.0809 (8.09%)\n",
      "Principal Component 4: 0.0510 (5.10%)\n"
     ]
    }
   ],
   "source": [
    "pipeline = Pipeline(\n",
    "    [\n",
    "        (\"scaler\", StandardScaler()),\n",
    "        (\"pca\", PCA(n_components=0.95)),\n",
    "    ]\n",
    ")\n",
    "\n",
    "pipeline.fit(train_features)\n",
    "\n",
    "pca = pipeline.named_steps[\"pca\"]\n",
    "explained_variance_ratio = pca.explained_variance_ratio_\n",
    "for index, variance in enumerate(explained_variance_ratio):\n",
    "    print(f\"Principal Component {index + 1}: {variance:.4f} ({variance * 100:.2f}%)\")\n",
    "\n",
    "pca.n_components_\n",
    "\n",
    "pca_train_features = pipeline.transform(train_features)\n",
    "pca_val_features = pipeline.transform(val_features)\n",
    "pca_test_features = pipeline.transform(test_features)"
   ]
  },
  {
   "cell_type": "markdown",
   "metadata": {},
   "source": [
    "Train models on Principal Components and validate on the validation set"
   ]
  },
  {
   "cell_type": "code",
   "execution_count": 7,
   "metadata": {},
   "outputs": [
    {
     "name": "stdout",
     "output_type": "stream",
     "text": [
      "SVM Accuracy: 0.8962350780532599\n",
      "DT Accuracy: 0.8539944903581267\n",
      "KNN Accuracy: 0.8925619834710744\n",
      "\n",
      "Classification Report for SVM:\n",
      "              precision    recall  f1-score   support\n",
      "\n",
      "    BARBUNYA     0.8256    0.6698    0.7396       106\n",
      "      BOMBAY     1.0000    1.0000    1.0000        42\n",
      "        CALI     0.7883    0.8308    0.8090       130\n",
      "    DERMASON     0.9135    0.9296    0.9215       284\n",
      "       HOROZ     0.9437    0.9805    0.9618       154\n",
      "       SEKER     0.9752    0.9691    0.9721       162\n",
      "        SIRA     0.8551    0.8673    0.8612       211\n",
      "\n",
      "    accuracy                         0.8962      1089\n",
      "   macro avg     0.9002    0.8924    0.8950      1089\n",
      "weighted avg     0.8955    0.8962    0.8949      1089\n",
      "\n",
      "Classification Report for DT:\n",
      "              precision    recall  f1-score   support\n",
      "\n",
      "    BARBUNYA     0.6600    0.6226    0.6408       106\n",
      "      BOMBAY     1.0000    0.9762    0.9880        42\n",
      "        CALI     0.7500    0.7385    0.7442       130\n",
      "    DERMASON     0.9022    0.8768    0.8893       284\n",
      "       HOROZ     0.9359    0.9481    0.9419       154\n",
      "       SEKER     0.9512    0.9630    0.9571       162\n",
      "        SIRA     0.7857    0.8341    0.8092       211\n",
      "\n",
      "    accuracy                         0.8540      1089\n",
      "   macro avg     0.8550    0.8513    0.8529      1089\n",
      "weighted avg     0.8537    0.8540    0.8536      1089\n",
      "\n",
      "Classification Report for KNN:\n",
      "              precision    recall  f1-score   support\n",
      "\n",
      "    BARBUNYA     0.8261    0.7170    0.7677       106\n",
      "      BOMBAY     1.0000    1.0000    1.0000        42\n",
      "        CALI     0.8244    0.8308    0.8276       130\n",
      "    DERMASON     0.8990    0.9085    0.9037       284\n",
      "       HOROZ     0.9437    0.9805    0.9618       154\n",
      "       SEKER     0.9753    0.9753    0.9753       162\n",
      "        SIRA     0.8326    0.8483    0.8404       211\n",
      "\n",
      "    accuracy                         0.8926      1089\n",
      "   macro avg     0.9002    0.8943    0.8966      1089\n",
      "weighted avg     0.8917    0.8926    0.8917      1089\n",
      "\n"
     ]
    }
   ],
   "source": [
    "# Train SVM, DT and KNN models\n",
    "\n",
    "svm_clf = SVC()\n",
    "dt_clf = DecisionTreeClassifier(random_state=42)\n",
    "knn_clf = KNeighborsClassifier()\n",
    "\n",
    "svm_clf.fit(pca_train_features, train_labels)\n",
    "dt_clf.fit(pca_train_features, train_labels)\n",
    "knn_clf.fit(pca_train_features, train_labels)\n",
    "\n",
    "# Predictions for SVM, DT and KNN\n",
    "\n",
    "svm_predictions = svm_clf.predict(pca_val_features)\n",
    "dt_predictions = dt_clf.predict(pca_val_features)\n",
    "knn_predictions = knn_clf.predict(pca_val_features)\n",
    "\n",
    "print(\"SVM Accuracy:\", accuracy_score(val_labels, svm_predictions))\n",
    "print(\"DT Accuracy:\", accuracy_score(val_labels, dt_predictions))\n",
    "print(\"KNN Accuracy:\", accuracy_score(val_labels, knn_predictions))\n",
    "\n",
    "# Detailed classification report\n",
    "print(\"\\nClassification Report for SVM:\")\n",
    "print(classification_report(val_labels, svm_predictions, digits=4))\n",
    "\n",
    "print(\"Classification Report for DT:\")\n",
    "print(classification_report(val_labels, dt_predictions, digits=4))\n",
    "\n",
    "print(\"Classification Report for KNN:\")\n",
    "print(classification_report(val_labels, knn_predictions, digits=4))"
   ]
  },
  {
   "cell_type": "code",
   "execution_count": 8,
   "metadata": {},
   "outputs": [
    {
     "name": "stdout",
     "output_type": "stream",
     "text": [
      "RF Accuracy: 0.8962350780532599\n",
      "MLP Accuracy: 0.9008264462809917\n",
      "\n",
      "Classification Report for RF:\n",
      "              precision    recall  f1-score   support\n",
      "\n",
      "    BARBUNYA     0.8105    0.7264    0.7662       106\n",
      "      BOMBAY     1.0000    1.0000    1.0000        42\n",
      "        CALI     0.8195    0.8385    0.8289       130\n",
      "    DERMASON     0.9034    0.9225    0.9129       284\n",
      "       HOROZ     0.9551    0.9675    0.9613       154\n",
      "       SEKER     0.9634    0.9753    0.9693       162\n",
      "        SIRA     0.8565    0.8483    0.8524       211\n",
      "\n",
      "    accuracy                         0.8962      1089\n",
      "   macro avg     0.9012    0.8969    0.8987      1089\n",
      "weighted avg     0.8952    0.8962    0.8955      1089\n",
      "\n",
      "Classification Report for MLP:\n",
      "              precision    recall  f1-score   support\n",
      "\n",
      "    BARBUNYA     0.8172    0.7170    0.7638       106\n",
      "      BOMBAY     1.0000    1.0000    1.0000        42\n",
      "        CALI     0.8182    0.8308    0.8244       130\n",
      "    DERMASON     0.9223    0.9190    0.9206       284\n",
      "       HOROZ     0.9494    0.9740    0.9615       154\n",
      "       SEKER     0.9753    0.9753    0.9753       162\n",
      "        SIRA     0.8493    0.8815    0.8651       211\n",
      "\n",
      "    accuracy                         0.9008      1089\n",
      "   macro avg     0.9045    0.8997    0.9015      1089\n",
      "weighted avg     0.9002    0.9008    0.9001      1089\n",
      "\n"
     ]
    }
   ],
   "source": [
    "# Train RF and MLP\n",
    "\n",
    "rf_clf = RandomForestClassifier(random_state=42)\n",
    "mlp_clf = MLPClassifier(max_iter=500, random_state=42)\n",
    "\n",
    "rf_clf.fit(pca_train_features, train_labels)\n",
    "mlp_clf.fit(pca_train_features, train_labels)\n",
    "\n",
    "# Predictions for RF and MLP\n",
    "\n",
    "rf_predictions = rf_clf.predict(pca_val_features)\n",
    "mlp_predictions = mlp_clf.predict(pca_val_features)\n",
    "\n",
    "print(\"RF Accuracy:\", accuracy_score(val_labels, rf_predictions))\n",
    "print(\"MLP Accuracy:\", accuracy_score(val_labels, mlp_predictions))\n",
    "\n",
    "# Detailed classification reports\n",
    "print(\"\\nClassification Report for RF:\")\n",
    "print(classification_report(val_labels, rf_predictions, digits=4))\n",
    "\n",
    "print(\"Classification Report for MLP:\")\n",
    "print(classification_report(val_labels, mlp_predictions, digits=4))"
   ]
  },
  {
   "cell_type": "code",
   "execution_count": null,
   "metadata": {},
   "outputs": [],
   "source": []
  }
 ],
 "metadata": {
  "kernelspec": {
   "display_name": "base",
   "language": "python",
   "name": "python3"
  },
  "language_info": {
   "codemirror_mode": {
    "name": "ipython",
    "version": 3
   },
   "file_extension": ".py",
   "mimetype": "text/x-python",
   "name": "python",
   "nbconvert_exporter": "python",
   "pygments_lexer": "ipython3",
   "version": "3.12.8"
  }
 },
 "nbformat": 4,
 "nbformat_minor": 2
}
